{
 "cells": [
  {
   "cell_type": "code",
   "execution_count": 424,
   "metadata": {
    "collapsed": true
   },
   "outputs": [],
   "source": [
    "import pandas as pd\n",
    "import numpy as np\n",
    "import matplotlib.pyplot as plt\n",
    "from sklearn import linear_model\n",
    "import statsmodels.api as sm\n",
    "from scipy import stats\n",
    "from scipy.spatial.distance import pdist\n",
    "from geopy.distance import vincenty"
   ]
  },
  {
   "cell_type": "code",
   "execution_count": 398,
   "metadata": {
    "collapsed": false
   },
   "outputs": [],
   "source": [
    "vt_df = pd.read_csv(r'D:\\DataIncubator\\Questions\\Cohort_Spring\\VT_cleaned.csv', low_memory=False)\n",
    "mt_df = pd.read_csv(r'D:\\DataIncubator\\Questions\\Cohort_Spring\\MT_cleaned.csv', low_memory=False)"
   ]
  },
  {
   "cell_type": "code",
   "execution_count": 479,
   "metadata": {
    "collapsed": false
   },
   "outputs": [
    {
     "name": "stdout",
     "output_type": "stream",
     "text": [
      "Fraction of Male driver =  0.6749749733\n",
      "arrest probability ration =  1.2095129351\n",
      "Chi_squared =  128.729163242\n",
      "\n",
      "\n",
      "                     |  out_of_state  |   in_state\n",
      "         ============|================|===============\n",
      "         not_arested:|       198773   |     604588\n",
      "         ------------|----------------|--------------\n",
      "             arested:|       4868     |     12190\n",
      "         ============|================|===============\n",
      "               Total:|       203641   |     616778\n",
      "\n",
      "\n",
      "speeding_proprotion =  0.6580998112\n",
      "How much more likely DUI Montana - Vermont =  0.008159323\n"
     ]
    },
    {
     "name": "stderr",
     "output_type": "stream",
     "text": [
      "C:\\ProgramData\\Anaconda3\\lib\\site-packages\\ipykernel\\__main__.py:67: FutureWarning: reshape is deprecated and will raise in a subsequent release. Please use .values.reshape(...) instead\n",
      "C:\\ProgramData\\Anaconda3\\lib\\site-packages\\ipykernel\\__main__.py:68: FutureWarning: reshape is deprecated and will raise in a subsequent release. Please use .values.reshape(...) instead\n"
     ]
    },
    {
     "name": "stdout",
     "output_type": "stream",
     "text": [
      "prediction for year 2020 :  [[ 2008.84316596]]\n"
     ]
    },
    {
     "data": {
      "image/png": "[encoded data removed]",
      "text/plain": [
       "<matplotlib.figure.Figure at 0x2a23b5bab00>"
      ]
     },
     "metadata": {},
     "output_type": "display_data"
    },
    {
     "name": "stdout",
     "output_type": "stream",
     "text": [
      "p_value is : 5.60914825372e-08\n"
     ]
    },
    {
     "name": "stderr",
     "output_type": "stream",
     "text": [
      "C:\\ProgramData\\Anaconda3\\lib\\site-packages\\ipykernel\\__main__.py:93: SettingWithCopyWarning: \n",
      "A value is trying to be set on a copy of a slice from a DataFrame.\n",
      "Try using .loc[row_indexer,col_indexer] = value instead\n",
      "\n",
      "See the caveats in the documentation: http://pandas.pydata.org/pandas-docs/stable/indexing.html#indexing-view-versus-copy\n"
     ]
    },
    {
     "name": "stdout",
     "output_type": "stream",
     "text": [
      "Difference between most stops and least stops : 95344\n",
      "Area of the bigest county is :  2201.66884535\n"
     ]
    }
   ],
   "source": [
    "# Fraction of Male driver in Mantana:\n",
    "# Question Q2-part a\n",
    "res_a = np.round(len(mt_df[mt_df.driver_gender == 'M'])/ len(mt_df), 10)\n",
    "print('Fraction of Male driver = ', res_a)\n",
    "\n",
    "# out-of-state arrests in Montana:\n",
    "mt_data_cleaned = mt_df[(~mt_df['out_of_state'].isnull()) & ~mt_df['is_arrested'].isnull()][['is_arrested', 'out_of_state']]\n",
    "out_of_state = mt_data_cleaned[mt_data_cleaned.out_of_state == True]\n",
    "in_state = mt_data_cleaned[mt_data_cleaned.out_of_state == False]\n",
    "count_out_of_state = len(out_of_state)\n",
    "count_out_of_state_arrested  = len(out_of_state[out_of_state.is_arrested])\n",
    "count_in_state = len(in_state)\n",
    "count_in_state_arrest = len(in_state[in_state.is_arrested])\n",
    "\n",
    "#Question Q2-part b\n",
    "p_arrest_out_of_state  = count_out_of_state_arrested/count_out_of_state\n",
    "p_arrest_in_state  = count_in_state_arrest/count_in_state\n",
    "res_b = np.round(p_arrest_out_of_state/p_arrest_in_state, 10)\n",
    "print('arrest probability ration = ', res_b) \n",
    "\n",
    "#Question Q2-part c\n",
    "from scipy.stats import chi2_contingency\n",
    "obs = np.array([[4868, 198773], [12190, 604588]])\n",
    "chi2, p, dof, expecte = chi2_contingency(obs)\n",
    "print('Chi_squared = ',chi2)\n",
    "\n",
    "#printing out stats:\n",
    "print('\\n')\n",
    "print('                     |  out_of_state ' , '|' , '  in_state')\n",
    "print('         ============|================|===============')\n",
    "print('         not_arested:|',' '*5, count_out_of_state - count_out_of_state_arrested,' '*1,'|',' '*3, count_in_state - count_in_state_arrest)\n",
    "print('         ------------|----------------|--------------')\n",
    "print('             arested:|',' '*5, count_out_of_state_arrested,' '*3,'|',' '*3, count_in_state_arrest)\n",
    "print('         ============|================|===============')\n",
    "print('               Total:|',' '*5, count_out_of_state,' '*1,'|',' '*3, count_in_state)\n",
    "\n",
    "# to be used several times\n",
    "def calcViolationProportion(df, violationType):\n",
    "    violations = df['violation'].astype(str)\n",
    "    viol_list = [i.split(',') for i in violations]\n",
    "    count_viol  = len(viol_list)\n",
    "    viol_of_interest = [i for i in viol_list if str(violationType) in i]\n",
    "    count_viol_of_interest = len(viol_of_interest)\n",
    "    return count_viol_of_interest/ count_viol\n",
    "\n",
    "#Question Q2-part d\n",
    "#speeding_proprotion\n",
    "print('\\n')\n",
    "print('speeding_proprotion = ', np.round(calcViolationProportion(mt_df, 'Speeding'), 10)) #0.6580998112\n",
    "\n",
    "#Question Q2-part e\n",
    "#How much more likely does a traffic stop in Montana result in a DUI\n",
    "dui_proprotion_montana = calcViolationProportion(mt_df, 'DUI')\n",
    "dui_proprotion_vermont = calcViolationProportion(vt_df, 'DUI')\n",
    "print('How much more likely DUI Montana - Vermont = ' , np.round(dui_proprotion_montana - dui_proprotion_vermont, 9))\n",
    "\n",
    "\n",
    "#Question Q2-part f\n",
    "vehicle_Stop_year = mt_df[(~mt_df.stop_date.isnull()) & (~mt_df.vehicle_year.isnull())][[ 'stop_date',  'vehicle_year']]\n",
    "vehicle_Stop_year = vehicle_Stop_year[[vy.isdigit() for vy in vehicle_Stop_year.vehicle_year.astype(str)]] \n",
    "vehicle_Stop_year['stop_year'] = [s[:4] for s in vehicle_Stop_year['stop_date']]\n",
    "vehicle_Stop_year = vehicle_Stop_year[['vehicle_year','stop_year']].apply(pd.to_numeric)\n",
    "dat =pd.DataFrame({'mean_vehicle_year' : vehicle_Stop_year.groupby(['stop_year'])['vehicle_year'].mean()}).reset_index()\n",
    "\n",
    "\n",
    "# Split the targets into training/testing sets\n",
    "dat_x_train = dat.stop_year.reshape(-1, 1)\n",
    "dat_y_train = dat.mean_vehicle_year.reshape(-1, 1)\n",
    "\n",
    "regr = linear_model.LinearRegression()\n",
    "regr.fit(dat_x_train, dat_y_train)\n",
    "print('prediction for year 2020 : ', regr.predict(2020))\n",
    "\n",
    "# Plot outputs\n",
    "plt.scatter(dat_x_train, dat_y_train,  color='blue', linewidth=3)\n",
    "plt.xticks(dat_x_train)\n",
    "plt.yticks(dat_y_train)\n",
    "plt.title('change of average vehicle priduction year VS stop year')\n",
    "plt.xlabel('stop year')\n",
    "plt.ylabel('average vehicle priduction year')\n",
    "plt.show()\n",
    "\n",
    "\n",
    "#Question Q2-part g:\n",
    "dat_x_train_est = sm.add_constant(dat_x_train)\n",
    "est = sm.OLS(dat_y_train, dat_x_train_est)\n",
    "print('p_value is :',  est.fit().f_pvalue) \n",
    "\n",
    "\n",
    "#Question Q2-part h:\n",
    "mt_df_cleaned = mt_df[~mt_df.stop_time.isnull()]\n",
    "vt_df['stop_hour'] = vt_df['stop_time' ].apply(lambda x : int(x.strip()[:2]))\n",
    "mt_df_cleaned['stop_hour'] = mt_df_cleaned['stop_time' ].apply(lambda x : int(x.strip()[:2]))\n",
    "stop_hours_df = pd.concat([vt_df[['stop_time', 'stop_hour']], mt_df_cleaned[['stop_time', 'stop_hour']]])\n",
    "hour_group = pd.DataFrame({'stop_per_hour':stop_hours_df.groupby(stop_hours_df.stop_hour)['stop_time'].count()})\n",
    "stop_hour_max = hour_group['stop_per_hour'].max()\n",
    "stop_hour_min = hour_group['stop_per_hour'].min()\n",
    "print('Difference between most stops and least stops :', stop_hour_max - stop_hour_min)\n",
    "\n",
    "\n",
    "#Question Q2-part i:\n",
    "# cleaning data\n",
    "# Montana Longitude: -104° 2'  to -116° 2'  and Latitude: 44° 26'N to 49°N\n",
    "df = mt_df[['county_fips', 'lat', 'lon']].apply(pd.to_numeric)\n",
    "df = df[ (~df.lat.isnull()) & (~df.lon.isnull()) & (df.lat > 44) & (df.lat < 50) & (df.lon < -104) & (df.lon > -116.2)]\n",
    "\n",
    "#grouping by county_fips:\n",
    "latgroup = df.groupby(['county_fips'])['lat']\n",
    "longroup = df.groupby(['county_fips'])['lon']\n",
    "montana_geo_stat = pd.DataFrame({'lat_std': latgroup.std(), 'lat_mean': latgroup.mean(), \n",
    "                                'lon_std': longroup.std(), 'lon_mean': longroup.mean()})\n",
    "\n",
    "\n",
    "def calcGeoArea(lat_mean, lon_mean, lat_std, lon_std):\n",
    "    lat_coordinates = np.array([[lat_mean - lat_std, lon_mean], [lat_mean, lon_mean] ])\n",
    "    a = pdist(lat_coordinates,  lambda u, v: vincenty(u, v).kilometers)\n",
    "    \n",
    "    lon_coordinates = np.array([[lat_mean , lon_mean -lon_std], [lat_mean, lon_mean] ])\n",
    "    b = pdist(lon_coordinates,  lambda u, v: vincenty(u, v).kilometers)\n",
    "    return (np.pi * a * b)[0]\n",
    "\n",
    "def calGeoArea_df(dat_df):\n",
    "    return dat_df.apply(lambda row: calcGeoArea(lat_mean= row['lat_mean'], lat_std= row['lat_std'], \n",
    "                                         lon_mean= row['lon_mean'], lon_std= row['lon_std']), axis=1)\n",
    "\n",
    "montana_geo_stat['area'] = calGeoArea_df(montana_geo_stat)\n",
    "print('Area of the bigest county is : ', np.round(montana_geo_stat['area'].max(), 9))\n",
    "\n"
   ]
  },
  {
   "cell_type": "code",
   "execution_count": null,
   "metadata": {
    "collapsed": true
   },
   "outputs": [],
   "source": []
  }
 ],
 "metadata": {
  "kernelspec": {
   "display_name": "Python 3",
   "language": "python",
   "name": "python3"
  },
  "language_info": {
   "codemirror_mode": {
    "name": "ipython",
    "version": 3
   },
   "file_extension": ".py",
   "mimetype": "text/x-python",
   "name": "python",
   "nbconvert_exporter": "python",
   "pygments_lexer": "ipython3",
   "version": "3.6.0"
  }
 },
 "nbformat": 4,
 "nbformat_minor": 2
}
