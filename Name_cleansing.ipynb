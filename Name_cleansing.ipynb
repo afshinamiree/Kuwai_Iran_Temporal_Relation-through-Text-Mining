{
 "cells": [
  {
   "cell_type": "code",
   "execution_count": 156,
   "metadata": {
    "collapsed": true
   },
   "outputs": [],
   "source": [
    "import os\n",
    "main_dir = r\"D:\\DataIncubator\\PythonCodes\\interactivepython\\Al_Mojtama_Project\\Matterials\\AlMojtama\"\n",
    "years = os.listdir(main_dir)\n",
    "for year in years:\n",
    "    year_dir =  os.path.join(main_dir , year )\n",
    "    for name in os.listdir(year_dir):\n",
    "        for name_parts in name.replace('.pdf', '').split(\" \") :\n",
    "            if (name_parts.isdigit() and len(name_parts) > 2 and len(name.replace('.pdf', '')) > 3 and not name.replace('.pdf', '').isdigit()):\n",
    "                old_file_name = os.path.join(year_dir, name)\n",
    "                new_file_name  = os.path.join(year_dir, name_parts + '.pdf')\n",
    "                if (os.path.isfile(new_file_name) == True):\n",
    "                    os.remove(new_file_name)\n",
    "                os.rename(old_file_name, new_file_name)\n",
    "                #print(new_file_name)"
   ]
  },
  {
   "cell_type": "code",
   "execution_count": 138,
   "metadata": {
    "collapsed": false
   },
   "outputs": [
    {
     "name": "stdout",
     "output_type": "stream",
     "text": [
      "0\n"
     ]
    }
   ],
   "source": [
    "#finding not properly reanmed pdfs\n",
    "import os\n",
    "main_dir = r\"D:\\DataIncubator\\PythonCodes\\interactivepython\\Al_Mojtama_Project\\Matterials\\AlMojtama\"\n",
    "years = os.listdir(main_dir)\n",
    "counter = 0\n",
    "for year in years:\n",
    "    year_dir =  os.path.join(main_dir , year )\n",
    "    for name in os.listdir(year_dir):\n",
    "        if not name.replace(\".pdf\", \"\").isdigit():\n",
    "            counter = counter + 1\n",
    "            print(os.path.join(year_dir, name))\n",
    "print(counter)"
   ]
  },
  {
   "cell_type": "code",
   "execution_count": 175,
   "metadata": {
    "collapsed": false
   },
   "outputs": [
    {
     "name": "stdout",
     "output_type": "stream",
     "text": [
      "D:\\DataIncubator\\PythonCodes\\interactivepython\\Al_Mojtama_Project\\Matterials\\AlMojtama\\2017\\2103\n",
      "D:\\DataIncubator\\PythonCodes\\interactivepython\\Al_Mojtama_Project\\Matterials\\AlMojtama\\2017\\2104\n",
      "D:\\DataIncubator\\PythonCodes\\interactivepython\\Al_Mojtama_Project\\Matterials\\AlMojtama\\2017\\2105\n",
      "D:\\DataIncubator\\PythonCodes\\interactivepython\\Al_Mojtama_Project\\Matterials\\AlMojtama\\2017\\2106\n",
      "D:\\DataIncubator\\PythonCodes\\interactivepython\\Al_Mojtama_Project\\Matterials\\AlMojtama\\2017\\2107\n",
      "D:\\DataIncubator\\PythonCodes\\interactivepython\\Al_Mojtama_Project\\Matterials\\AlMojtama\\2017\\2108\n",
      "D:\\DataIncubator\\PythonCodes\\interactivepython\\Al_Mojtama_Project\\Matterials\\AlMojtama\\2017\\2109\n",
      "D:\\DataIncubator\\PythonCodes\\interactivepython\\Al_Mojtama_Project\\Matterials\\AlMojtama\\2017\\2110\n",
      "D:\\DataIncubator\\PythonCodes\\interactivepython\\Al_Mojtama_Project\\Matterials\\AlMojtama\\2017\\2111\n",
      "D:\\DataIncubator\\PythonCodes\\interactivepython\\Al_Mojtama_Project\\Matterials\\AlMojtama\\2017\\2112\n",
      "D:\\DataIncubator\\PythonCodes\\interactivepython\\Al_Mojtama_Project\\Matterials\\AlMojtama\\2017\\2113\n",
      "D:\\DataIncubator\\PythonCodes\\interactivepython\\Al_Mojtama_Project\\Matterials\\AlMojtama\\2017\\2114\n",
      "D:\\DataIncubator\\PythonCodes\\interactivepython\\Al_Mojtama_Project\\Matterials\\AlMojtama\\2017\\2115\n",
      "D:\\DataIncubator\\PythonCodes\\interactivepython\\Al_Mojtama_Project\\Matterials\\AlMojtama\\2017\\2116\n",
      "D:\\DataIncubator\\PythonCodes\\interactivepython\\Al_Mojtama_Project\\Matterials\\AlMojtama\\2017\\2117\n"
     ]
    }
   ],
   "source": [
    "import os\n",
    "year_dir = r'D:\\DataIncubator\\PythonCodes\\interactivepython\\Al_Mojtama_Project\\Matterials\\AlMojtama\\2017'\n",
    "txt_file_name = os.path.join(year_dir, 'ref.txt')\n",
    "ref_txt = u'ليه الويلات'\n",
    "\n",
    "for file in os.listdir(year_dir):\n",
    "    file_path = os.path.join(year_dir, file)\n",
    "    filename, file_extension = os.path.splitext(file_path)\n",
    "    if file_extension == '.pdf':\n",
    "        print(filename)\n",
    "        os.mkdir(filename)\n",
    "        os.rename(file_path, os.path.join(filename, file))\n",
    "        ref_txt_path = os.path.join(filename, 'ref.txt')\n",
    "        with open(ref_txt_path, 'wb') as f:\n",
    "              f.write(ref_txt.encode('utf8'))\n"
   ]
  },
  {
   "cell_type": "code",
   "execution_count": 105,
   "metadata": {
    "collapsed": true
   },
   "outputs": [],
   "source": [
    "\n",
    "def cleanTxt(txt):\n",
    "    txt  = txt.replace(u'�', ' ')\n",
    "    txt  = txt.replace(u'􀀻', ' ')\n",
    "    txt  = txt.replace(u'􀀾􀀾', ' ')\n",
    "    txt =  txt.replace('\\n', ' ') \n",
    "    txt  = txt.replace('\\r', '')    \n",
    "    txt  = txt.replace('©', '')\n",
    "    txt  = txt.replace(':', '')\n",
    "    txt  = txt.replace('\\r', '')\n",
    "    txt  = txt.replace('©', '')\n",
    "    txt  = txt.replace('*', '')\n",
    "    txt  = txt.replace('-', '')\n",
    "    txt  = txt.replace('.', '')\n",
    "    txt  = txt.replace('»', '')    \n",
    "    txt  = txt.replace('«', '')\n",
    "    txt  = txt.replace('', '')\n",
    "    txt  = txt.replace('|', '')\n",
    "    txt  = txt.replace('  ', ' ')\n",
    "    txt  = txt.replace(\"'\", '')\n",
    "    txt  = txt.replace(',', '')\n",
    "    txt  = txt.replace('ــ', '')\n",
    "    txt  = txt.replace('+', '')\n",
    "    txt  = txt.replace('>', '')\n",
    "    txt  = txt.replace('ـ', '')\n",
    "    txt  = txt.replace('(', '')\n",
    "    txt  = txt.replace(')', '')\n",
    "    txt  = txt.replace('_', '')\n",
    "    txt  = txt.replace('%', '')\n",
    "    txt  = txt.replace('$', '')\n",
    "    txt  = txt.replace('#', '')\n",
    "    txt  = txt.replace('@', '')\n",
    "    txt  = txt.replace('!', '')\n",
    "    txt  = txt.replace('_', '')\n",
    "    txt  = txt.replace('{', '')\n",
    "    txt  = txt.replace('}', '')\n",
    "    txt  = txt.replace('[', '')\n",
    "    txt  = txt.replace(']', '')\n",
    "    txt  = txt.replace('\\\\', '')\n",
    "    txt  = txt.replace('\"', '')\n",
    "    txt  = txt.replace(';', '')\n",
    "    txt  = txt.replace('~', '')    \n",
    "    txt  = txt.replace('/', '')\n",
    "\n",
    " \n",
    "    \n",
    "    txt  = txt.replace('􀀽􀀽', ' ')\n",
    "    txt  = txt.replace('ٍ', '')\n",
    "    txt  = txt.replace('=', '')\n",
    "    txt  = txt.replace('~', '')\n",
    "\n",
    "\n",
    "    \n",
    "                                          \n",
    "    txt = ' '.join([w for w in txt.split() if len(w)>1])\n",
    "    return str(txt)"
   ]
  },
  {
   "cell_type": "code",
   "execution_count": 106,
   "metadata": {
    "collapsed": false
   },
   "outputs": [],
   "source": [
    " def extractPageInfo(txt):\n",
    "    # you may also want to remove whitespace characters like `\\n` at the end of each line\n",
    "    content = [x.strip() for x in txt.split('\\n')] \n",
    "    page_lst = list()\n",
    "    page_no = 0\n",
    "    idx = 0\n",
    "    pre_idx  = 0\n",
    "\n",
    "    stop = False\n",
    "    for c in content[idx:]:\n",
    "        idx += 1\n",
    "        if stop:\n",
    "            break\n",
    "        if c.startswith('USA $'):\n",
    "            stop = True\n",
    "    page_lst.append([pre_idx, idx, '1'])\n",
    "    pre_idx = idx + 1       \n",
    "\n",
    "    stop = False\n",
    "    for c in content[idx:]:\n",
    "        idx += 1\n",
    "        if stop:\n",
    "            break\n",
    "        if c.startswith(u'بسم الله الرحمن الرحيم'):\n",
    "            stop = True\n",
    "    page_lst.append([pre_idx, idx, '2'])\n",
    "    pre_idx = idx + 1 \n",
    "\n",
    "\n",
    "    stop = False\n",
    "    for c in content[idx:]:\n",
    "        idx += 1\n",
    "        if stop:\n",
    "            break\n",
    "        if c.startswith(u'Tel: '):\n",
    "            stop = True\n",
    "    idx = 200\n",
    "    page_lst.append([pre_idx, idx, '3'])\n",
    "    pre_idx = idx + 1 \n",
    "    \n",
    "    while idx in range(idx, len(content)):\n",
    "        if content[idx].strip() in [str(i) for i in range(page_no, 100) ]:\n",
    "            page_lst.append([pre_idx, idx, content[idx]])\n",
    "            page_no = int(content[idx])\n",
    "            pre_idx = idx + 1\n",
    "        idx = idx + 1\n",
    "    return page_lst"
   ]
  },
  {
   "cell_type": "code",
   "execution_count": 107,
   "metadata": {
    "collapsed": false,
    "scrolled": true
   },
   "outputs": [],
   "source": [
    "def splitRefToTxtFiles(file_name):\n",
    "    \n",
    "    with open(file_name, 'rb') as f:\n",
    "        #txt = f.read().decode('utf8')\n",
    "        content = f.readlines() \n",
    "        #print(txt)\n",
    "    for item in extractPageInfo(txt):\n",
    "        dir_path = file_name.replace(r'\\ref.txt', '')\n",
    "        file_path = os.path.join(dir_path, str(item[2]) + '.txt' )\n",
    "\n",
    "        page_text = ''\n",
    "        for pageline in  content[item[0]: item[1] + 1]:\n",
    "            page_text = page_text + ' ' + pageline.decode('utf8')\n",
    "        \n",
    "        page_text = cleanTxt(page_text)\n",
    "        with open(file_path, 'wb') as f:\n",
    "            f.write(page_text.encode('utf8'))\n"
   ]
  },
  {
   "cell_type": "code",
   "execution_count": 108,
   "metadata": {
    "collapsed": false
   },
   "outputs": [],
   "source": [
    "file_name  = r'D:\\DataIncubator\\Resume\\ref.txt'\n",
    "splitRefToTxtFiles(file_name)"
   ]
  },
  {
   "cell_type": "code",
   "execution_count": 12,
   "metadata": {
    "collapsed": true
   },
   "outputs": [],
   "source": [
    "import os\n",
    "def cleanYearFolderNames(year):\n",
    "    main_dir = r\"D:\\DataIncubator\\PythonCodes\\interactivepython\\Al_Mojtama_Project\\Matterials\\AlMojtama\"\n",
    "    years = os.listdir(main_dir)\n",
    "    year_dir =  os.path.join(main_dir , str(year) )\n",
    "    for name in os.listdir(year_dir):\n",
    "        for name_parts in name.replace('.pdf', '').split(\" \") :\n",
    "            if (name_parts.isdigit() and len(name_parts) > 2 and len(name.replace('.pdf', '')) > 3 and not name.replace('.pdf', '').isdigit()):\n",
    "                old_file_name = os.path.join(year_dir, name)\n",
    "                new_file_name  = os.path.join(year_dir, name_parts + '.pdf')\n",
    "                if (os.path.isfile(new_file_name) == True):\n",
    "                    os.remove(new_file_name)\n",
    "                os.rename(old_file_name, new_file_name)\n",
    "                "
   ]
  },
  {
   "cell_type": "code",
   "execution_count": 23,
   "metadata": {
    "collapsed": false
   },
   "outputs": [],
   "source": [
    "import os\n",
    "def createFolderForEachPdfFile(year):\n",
    "    main_dir = r\"D:\\DataIncubator\\PythonCodes\\interactivepython\\Al_Mojtama_Project\\Matterials\\AlMojtama\"\n",
    "\n",
    "    year_dir = os.path.join(main_dir, str(year))\n",
    "\n",
    "    #if the file has already been splited exclude it\n",
    "    pdfFileNames = [f for f in os.listdir(year_dir) if not os.path.isdir(os.path.join(year_dir, f.replace('.pdf', '')))]    \n",
    "    for name in pdfFileNames:\n",
    "        out_dir_name = name.replace('.pdf', '')\n",
    "        out_dir  = os.path.join(year_dir, out_dir_name)\n",
    "        pdf_file_name = os.path.join(year_dir, name)\n",
    "\n",
    "        #create directory if not exists\n",
    "        if not os.path.isdir(out_dir):\n",
    "            os.mkdir(out_dir)\n",
    "            ser_txt_file = os.path.join(out_dir, 'ref.txt')\n",
    "            txt = u'أنه قلما يقرأ القصص العربية'\n",
    "            with open(ser_txt_file, 'wb') as f:\n",
    "                f.write(txt.encode('utf-8'))\n",
    "                \n",
    "                "
   ]
  },
  {
   "cell_type": "code",
   "execution_count": 127,
   "metadata": {
    "collapsed": false
   },
   "outputs": [],
   "source": [
    "import os\n",
    "def getMagFolders(year = None):\n",
    "    main_dir = r\"D:\\DataIncubator\\PythonCodes\\interactivepython\\Al_Mojtama_Project\\Matterials\\AlMojtama\"\n",
    "    years = os.listdir(main_dir)\n",
    "    dir_lst =list()\n",
    "    if year == None:\n",
    "        for year in years:\n",
    "            year_dir =  os.path.join(main_dir , year )\n",
    "            for mag_no in os.listdir(year_dir):\n",
    "                mag_path = os.path.join(year_dir, mag_no)\n",
    "                if os.path.isdir(mag_path):\n",
    "                    dir_lst.append([mag_path, int(year), int(mag_no)])\n",
    "    else:\n",
    "        year_dir =  os.path.join(main_dir , str(year) )\n",
    "        for mag_no in os.listdir(year_dir):\n",
    "            mag_path = os.path.join(year_dir, mag_no)\n",
    "            if os.path.isdir(mag_path):\n",
    "                dir_lst.append([mag_path, year, int(mag_no)])\n",
    "    return dir_lst\n"
   ]
  },
  {
   "cell_type": "code",
   "execution_count": 135,
   "metadata": {
    "collapsed": false
   },
   "outputs": [],
   "source": [
    "def splitRefToTxtFilesOfYear(year):\n",
    "    for item in getMagFolders(year):\n",
    "        files = os.listdir(item[0])\n",
    "        for file in files:\n",
    "            file_path = os.path.join(item[0], file)\n",
    "            if not os.path.isfile(file_path):\n",
    "                continue\n",
    "            filename, file_extension = os.path.splitext(file)\n",
    "            if filename == 'ref' and file_extension == '.txt':\n",
    "                splitRefToTxtFiles(file_path)\n",
    "                os.remove(file_path)"
   ]
  },
  {
   "cell_type": "code",
   "execution_count": 189,
   "metadata": {
    "collapsed": true
   },
   "outputs": [],
   "source": [
    "splitRefToTxtFilesOfYear(2017)"
   ]
  },
  {
   "cell_type": "code",
   "execution_count": null,
   "metadata": {
    "collapsed": true
   },
   "outputs": [],
   "source": []
  }
 ],
 "metadata": {
  "kernelspec": {
   "display_name": "Python 3",
   "language": "python",
   "name": "python3"
  },
  "language_info": {
   "codemirror_mode": {
    "name": "ipython",
    "version": 3
   },
   "file_extension": ".py",
   "mimetype": "text/x-python",
   "name": "python",
   "nbconvert_exporter": "python",
   "pygments_lexer": "ipython3",
   "version": "3.6.0"
  }
 },
 "nbformat": 4,
 "nbformat_minor": 2
}
