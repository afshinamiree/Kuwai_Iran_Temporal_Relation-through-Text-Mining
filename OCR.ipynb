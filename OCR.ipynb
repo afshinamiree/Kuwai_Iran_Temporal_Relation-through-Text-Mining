{
 "cells": [
  {
   "cell_type": "code",
   "execution_count": 1,
   "metadata": {
    "collapsed": false
   },
   "outputs": [],
   "source": [
    "#!pip install pytesseract\n",
    "from PIL import Image\n",
    "import pytesseract  \n",
    "import os\n",
    "import re"
   ]
  },
  {
   "cell_type": "code",
   "execution_count": 2,
   "metadata": {
    "collapsed": false
   },
   "outputs": [],
   "source": [
    "import re\n",
    "\n",
    "def cleanTxt(txt):\n",
    "    txt =  txt.replace('\\n', ' ') \n",
    "    txt  = txt.replace('\\r', '')    \n",
    "    txt  = txt.replace('©', '')\n",
    "    txt  = txt.replace(':', '')\n",
    "    txt  = txt.replace('\\r', '')\n",
    "    txt  = txt.replace('©', '')\n",
    "    txt  = txt.replace('*', '')\n",
    "    txt  = txt.replace('-', '')\n",
    "    txt  = txt.replace('.', '')\n",
    "    txt  = txt.replace('»', '')    \n",
    "    txt  = txt.replace('«', '')\n",
    "    txt  = txt.replace('', '')\n",
    "    txt  = txt.replace('|', '')\n",
    "    txt  = txt.replace('  ', ' ')\n",
    "    txt  = txt.replace(\"'\", '')\n",
    "    txt  = txt.replace(',', '')\n",
    "    txt  = txt.replace('ــ', '')\n",
    "    txt  = txt.replace('+', '')\n",
    "    txt  = txt.replace('>', '')\n",
    "    txt  = txt.replace('ـ', '')\n",
    "    txt  = txt.replace('(', '')\n",
    "    txt  = txt.replace(')', '')\n",
    "    txt  = txt.replace('_', '')\n",
    "    txt  = txt.replace('%', '')\n",
    "    txt  = txt.replace('$', '')\n",
    "    txt  = txt.replace('#', '')\n",
    "    txt  = txt.replace('@', '')\n",
    "    txt  = txt.replace('!', '')\n",
    "    txt  = txt.replace('_', '')\n",
    "    txt  = txt.replace('{', '')\n",
    "    txt  = txt.replace('}', '')\n",
    "    txt  = txt.replace('[', '')\n",
    "    txt  = txt.replace(']', '')\n",
    "    txt  = txt.replace('\\\\', '')\n",
    "    txt  = txt.replace('\"', '')\n",
    "    txt  = txt.replace(';', '')\n",
    "    txt  = txt.replace('~', '')\n",
    "    txt  = txt.replace('/', '')\n",
    "\n",
    "    \n",
    "                                          \n",
    "    txt = ' '.join([w for w in txt.split() if len(w)>1])\n",
    "    return str(txt)"
   ]
  },
  {
   "cell_type": "code",
   "execution_count": 3,
   "metadata": {
    "collapsed": false
   },
   "outputs": [],
   "source": [
    "def ocrAndCreateTxt(png_file_name):\n",
    "    \n",
    "    pytesseract.pytesseract.tesseract_cmd = 'C:/Program Files (x86)/Tesseract-OCR/tesseract'\n",
    "    #png_file_name  = r'D:\\DataIncubator\\PythonCodes\\interactivepython\\Al_Mojtama_Project\\Matterials\\AlMojtama\\1978\\387\\5.png'\n",
    "    txt_file_name = png_file_name.replace('.png', '.txt')\n",
    "    im = Image.open(png_file_name)\n",
    "    txt = pytesseract.image_to_string(im, lang='ara')\n",
    "    \n",
    "    #creating txt file\n",
    "    with  open(txt_file_name, 'wb') as f: \n",
    "        f.write(cleanTxt(txt).encode('utf8'))\n",
    "    \n",
    "    #deleting ong file\n",
    "    os.remove(png_file_name)\n",
    "\n",
    "\n",
    "    \n",
    "# when you want to read the file open the file in rb mode\n",
    "#with open(file_name, 'rb') as f\n",
    "#f.read().decode('utf8')\n",
    "\n",
    " "
   ]
  },
  {
   "cell_type": "code",
   "execution_count": 4,
   "metadata": {
    "collapsed": false
   },
   "outputs": [
    {
     "name": "stdout",
     "output_type": "stream",
     "text": [
      "D:\\DataIncubator\\PythonCodes\\interactivepython\\Al_Mojtama_Project\\Matterials\\AlMojtama\\1978\\387\\4\n",
      ".png\n"
     ]
    }
   ],
   "source": [
    "png_file_name  = r'D:\\DataIncubator\\PythonCodes\\interactivepython\\Al_Mojtama_Project\\Matterials\\AlMojtama\\1978\\387\\4.png'\n",
    "filename, file_extension = os.path.splitext(png_file_name)\n",
    "print(filename)\n",
    "print(file_extension)\n",
    "#ocrAndCreateTxt(png_file_name)"
   ]
  },
  {
   "cell_type": "code",
   "execution_count": 5,
   "metadata": {
    "collapsed": false
   },
   "outputs": [],
   "source": [
    "def ocrYearMagezine(year):\n",
    "    main_dir = r\"D:\\DataIncubator\\PythonCodes\\interactivepython\\Al_Mojtama_Project\\Matterials\\AlMojtama\"\n",
    "    year_dir = os.path.join(main_dir, str(year))\n",
    "    \n",
    "    #consider all directories inside each year\n",
    "    mag_dirs = [f for f in os.listdir(year_dir) if os.path.isdir(os.path.join(year_dir, f))]    \n",
    "    for mag_dir in mag_dirs:\n",
    "        page_png_files =[p for p in os.listdir(os.path.join(year_dir, mag_dir))\n",
    "                         if os.path.isfile(os.path.join(year_dir, mag_dir, p))]\n",
    "\n",
    "        for page_png_file in page_png_files:\n",
    "            png_file_name = os.path.join(year_dir, mag_dir, page_png_file)\n",
    "            \n",
    "            filename, file_extension = os.path.splitext(png_file_name)\n",
    "            if file_extension == '.png':\n",
    "                ocrAndCreateTxt(png_file_name)\n",
    " "
   ]
  },
  {
   "cell_type": "code",
   "execution_count": 9,
   "metadata": {
    "collapsed": false
   },
   "outputs": [
    {
     "name": "stderr",
     "output_type": "stream",
     "text": [
      "C:\\ProgramData\\Anaconda3\\lib\\site-packages\\PIL\\Image.py:872: UserWarning: Palette images with Transparency   expressed in bytes should be converted to RGBA images\n",
      "  'to RGBA images')\n"
     ]
    }
   ],
   "source": [
    "# multi tread for function call\n",
    "import _thread\n",
    "\n",
    "try:\n",
    "    _thread.start_new_thread( ocrYearMagezine, (2006, ) )    \n",
    "    _thread.start_new_thread( ocrYearMagezine, (2007, ) )    \n",
    "    _thread.start_new_thread( ocrYearMagezine, (2008, ) )  \n",
    "    _thread.start_new_thread( ocrYearMagezine, (2009, ) )    \n",
    "    _thread.start_new_thread( ocrYearMagezine, (2010, ) )    \n",
    "    _thread.start_new_thread( ocrYearMagezine, (2011, ) )\n",
    "\n",
    "except:\n",
    "    print (\"Error: unable to start thread\")"
   ]
  },
  {
   "cell_type": "code",
   "execution_count": null,
   "metadata": {
    "collapsed": true
   },
   "outputs": [],
   "source": []
  }
 ],
 "metadata": {
  "kernelspec": {
   "display_name": "Python 3",
   "language": "python",
   "name": "python3"
  },
  "language_info": {
   "codemirror_mode": {
    "name": "ipython",
    "version": 3
   },
   "file_extension": ".py",
   "mimetype": "text/x-python",
   "name": "python",
   "nbconvert_exporter": "python",
   "pygments_lexer": "ipython3",
   "version": "3.6.0"
  }
 },
 "nbformat": 4,
 "nbformat_minor": 2
}
